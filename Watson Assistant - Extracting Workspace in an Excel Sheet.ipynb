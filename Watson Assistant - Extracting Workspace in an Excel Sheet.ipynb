{
 "cells": [
  {
   "cell_type": "markdown",
   "metadata": {},
   "source": [
    "## Watson Assistant - Extracting Workspace in an Excel Sheet\n",
    "This notebook will extract all dialog nodes and intents and export them into an Excel Sheet\n",
    "### Omar Megawer"
   ]
  },
  {
   "cell_type": "code",
   "execution_count": null,
   "metadata": {},
   "outputs": [],
   "source": [
    "import pandas as pd\n",
    "import numpy as np\n",
    "import pixiedust\n",
    "import json\n",
    "import itertools\n",
    "import pprint\n",
    "import openpyxl"
   ]
  },
  {
   "cell_type": "markdown",
   "metadata": {},
   "source": [
    "___"
   ]
  },
  {
   "cell_type": "markdown",
   "metadata": {},
   "source": [
    "#### Read Watson Assistant Workspace From a Local Backup\n",
    "Add the path for the downloaded Workspace here"
   ]
  },
  {
   "cell_type": "code",
   "execution_count": null,
   "metadata": {},
   "outputs": [],
   "source": [
    "with open('Workspace.json') as json_data:\n",
    "    workspaceJSON = json.load(json_data)"
   ]
  },
  {
   "cell_type": "code",
   "execution_count": null,
   "metadata": {},
   "outputs": [],
   "source": []
  },
  {
   "cell_type": "markdown",
   "metadata": {},
   "source": [
    "---"
   ]
  },
  {
   "cell_type": "markdown",
   "metadata": {},
   "source": [
    "#### Read All Dialog Nodes and Extract Responses"
   ]
  },
  {
   "cell_type": "code",
   "execution_count": null,
   "metadata": {
    "pixiedust": {
     "displayParams": {
      "filter": "{}",
      "handlerId": "tableView",
      "no_margin": "true"
     }
    },
    "scrolled": true
   },
   "outputs": [],
   "source": [
    "dialog_nodes = workspaceJSON['dialog_nodes']\n",
    "d = []\n",
    "for elem in dialog_nodes:\n",
    "    conditions = elem.get('conditions')\n",
    "    parent = elem.get('parent')\n",
    "    nodeId = elem['dialog_node']\n",
    "    title = elem.get('title')\n",
    "    nodeType = elem['type']\n",
    "    output = elem.get('output')\n",
    "    context = elem.get('context')\n",
    "    \n",
    "    \n",
    "    \n",
    "    if output == \"None\":\n",
    "        output = ''\n",
    "        \n",
    "        \n",
    "    next_step = elem.get('next_step')\n",
    "    row = {\n",
    "        'Node_Title': title,\n",
    "        'Node_Conditions': conditions,\n",
    "        'Node_Type': nodeType,\n",
    "        'Node_Parent': parent,\n",
    "        'Next_Step': next_step,\n",
    "        'Node_ID': nodeId,\n",
    "        'Response': output,\n",
    "        'Context': context,\n",
    "        'NodeID': nodeId,\n",
    "        'Node_Parent_ID': parent,\n",
    "    }\n",
    "    d.append(row)\n",
    "df = pd.DataFrame(d, columns=['Node_Title','Node_ID', 'NodeID','Node_Conditions', 'Node_Type', 'Node_Parent', 'Node_Parent_ID','Response', 'Context'])\n",
    "nodeMap = df.set_index('Node_ID')['Node_Title'].to_dict()\n",
    "df['Parent_Title'] = df.Node_Parent.map(nodeMap)\n",
    "df = df.drop('Node_Parent', 1)\n",
    "df = df.drop('Node_ID', 1)\n",
    "df = df[['Node_Title', 'NodeID','Node_Conditions','Parent_Title','Node_Parent_ID', 'Node_Type', 'Response', 'Context']]\n",
    "display(df)"
   ]
  },
  {
   "cell_type": "markdown",
   "metadata": {},
   "source": [
    "#### Read all Intents from Workspace"
   ]
  },
  {
   "cell_type": "code",
   "execution_count": null,
   "metadata": {
    "pixiedust": {
     "displayParams": {
      "aggregation": "COUNT",
      "chartsize": "97",
      "handlerId": "lineChart",
      "keyFields": "Intent",
      "mpld3": "true",
      "title": "Questions Per Intent"
     }
    },
    "scrolled": false
   },
   "outputs": [],
   "source": [
    "questions = []\n",
    "for intent in workspaceJSON['intents']:      # Response is the whole json object and it has one key value called intents with multiple intents in it\n",
    "    for example in intent['examples']: # in the intents there are several intent objects containing the user examples\n",
    "        row = { \n",
    "            'Question': example['text'],\n",
    "            'Intent': intent['intent']\n",
    "        }\n",
    "        questions.append(row)\n",
    "        \n",
    "df2 = pd.DataFrame(questions, columns=['Question','Intent'])\n"
   ]
  },
  {
   "cell_type": "markdown",
   "metadata": {},
   "source": [
    "---"
   ]
  },
  {
   "cell_type": "markdown",
   "metadata": {},
   "source": [
    "#### Save all Dataframes to Excel Sheet"
   ]
  },
  {
   "cell_type": "code",
   "execution_count": null,
   "metadata": {},
   "outputs": [],
   "source": [
    "writer = pd.ExcelWriter('Workspace En.xlsx')\n",
    "df.to_excel(writer, \"Dialog\", encoding='UTF8')\n",
    "df2.to_excel(writer, \"Intents\", encoding='UTF8')\n",
    "writer.save()"
   ]
  },
  {
   "cell_type": "markdown",
   "metadata": {
    "collapsed": true
   },
   "source": [
    "---"
   ]
  },
  {
   "cell_type": "code",
   "execution_count": null,
   "metadata": {},
   "outputs": [],
   "source": [
    "df2"
   ]
  },
  {
   "cell_type": "code",
   "execution_count": null,
   "metadata": {},
   "outputs": [],
   "source": []
  },
  {
   "cell_type": "code",
   "execution_count": null,
   "metadata": {},
   "outputs": [],
   "source": []
  }
 ],
 "metadata": {
  "kernelspec": {
   "display_name": "Python 3",
   "language": "python",
   "name": "python3"
  },
  "language_info": {
   "codemirror_mode": {
    "name": "ipython",
    "version": 3
   },
   "file_extension": ".py",
   "mimetype": "text/x-python",
   "name": "python",
   "nbconvert_exporter": "python",
   "pygments_lexer": "ipython3",
   "version": "3.6.4"
  },
  "toc": {
   "base_numbering": 1,
   "nav_menu": {},
   "number_sections": false,
   "sideBar": false,
   "skip_h1_title": false,
   "title_cell": "Table of Contents",
   "title_sidebar": "Contents",
   "toc_cell": false,
   "toc_position": {},
   "toc_section_display": false,
   "toc_window_display": false
  }
 },
 "nbformat": 4,
 "nbformat_minor": 2
}
